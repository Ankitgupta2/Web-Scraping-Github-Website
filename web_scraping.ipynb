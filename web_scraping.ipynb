{
  "nbformat": 4,
  "nbformat_minor": 0,
  "metadata": {
    "colab": {
      "name": "web scraping.ipynb",
      "provenance": [],
      "collapsed_sections": [],
      "authorship_tag": "ABX9TyNMU0sCtS6LPPJcuirtIY0z",
      "include_colab_link": true
    },
    "kernelspec": {
      "name": "python3",
      "display_name": "Python 3"
    },
    "language_info": {
      "name": "python"
    }
  },
  "cells": [
    {
      "cell_type": "markdown",
      "metadata": {
        "id": "view-in-github",
        "colab_type": "text"
      },
      "source": [
        "<a href=\"https://colab.research.google.com/github/Ankitgupta2/Web-Scraping-Github-Website/blob/main/web_scraping.ipynb\" target=\"_parent\"><img src=\"https://colab.research.google.com/assets/colab-badge.svg\" alt=\"Open In Colab\"/></a>"
      ]
    },
    {
      "cell_type": "code",
      "metadata": {
        "id": "xhe6rnb6NAiH"
      },
      "source": [
        "import requests"
      ],
      "execution_count": 112,
      "outputs": []
    },
    {
      "cell_type": "code",
      "metadata": {
        "id": "14KraAHwN4ow"
      },
      "source": [
        "topics_url='https://github.com/topics'"
      ],
      "execution_count": 113,
      "outputs": []
    },
    {
      "cell_type": "code",
      "metadata": {
        "id": "ggCAYeGGOkRo"
      },
      "source": [
        "response=requests.get(topics_url)"
      ],
      "execution_count": 114,
      "outputs": []
    },
    {
      "cell_type": "code",
      "metadata": {
        "colab": {
          "base_uri": "https://localhost:8080/"
        },
        "id": "6ax0f29FOw-w",
        "outputId": "a069d4f0-6cae-4517-bb9b-7ed1451d54a6"
      },
      "source": [
        "response.status_code"
      ],
      "execution_count": 115,
      "outputs": [
        {
          "output_type": "execute_result",
          "data": {
            "text/plain": [
              "200"
            ]
          },
          "metadata": {
            "tags": []
          },
          "execution_count": 115
        }
      ]
    },
    {
      "cell_type": "code",
      "metadata": {
        "colab": {
          "base_uri": "https://localhost:8080/"
        },
        "id": "WH3nS7XyP66R",
        "outputId": "db964613-5965-4d79-bcc8-0a3653523ce0"
      },
      "source": [
        "len(response.text)"
      ],
      "execution_count": 116,
      "outputs": [
        {
          "output_type": "execute_result",
          "data": {
            "text/plain": [
              "136304"
            ]
          },
          "metadata": {
            "tags": []
          },
          "execution_count": 116
        }
      ]
    },
    {
      "cell_type": "code",
      "metadata": {
        "id": "a1Kg0_cTQGqd"
      },
      "source": [
        "page_contents=response.text"
      ],
      "execution_count": 117,
      "outputs": []
    },
    {
      "cell_type": "code",
      "metadata": {
        "colab": {
          "base_uri": "https://localhost:8080/",
          "height": 139
        },
        "id": "AwLIFPXSQPWh",
        "outputId": "92eb182e-1dfd-48ab-dfd4-e53081463334"
      },
      "source": [
        "page_contents[:1000]"
      ],
      "execution_count": 118,
      "outputs": [
        {
          "output_type": "execute_result",
          "data": {
            "application/vnd.google.colaboratory.intrinsic+json": {
              "type": "string"
            },
            "text/plain": [
              "'\\n\\n<!DOCTYPE html>\\n<html lang=\"en\" data-color-mode=\"auto\" data-light-theme=\"light\" data-dark-theme=\"dark\">\\n  <head>\\n    <meta charset=\"utf-8\">\\n  <link rel=\"dns-prefetch\" href=\"https://github.githubassets.com\">\\n  <link rel=\"dns-prefetch\" href=\"https://avatars.githubusercontent.com\">\\n  <link rel=\"dns-prefetch\" href=\"https://github-cloud.s3.amazonaws.com\">\\n  <link rel=\"dns-prefetch\" href=\"https://user-images.githubusercontent.com/\">\\n  <link rel=\"preconnect\" href=\"https://github.githubassets.com\" crossorigin>\\n  <link rel=\"preconnect\" href=\"https://avatars.githubusercontent.com\">\\n\\n\\n\\n  <link crossorigin=\"anonymous\" media=\"all\" integrity=\"sha512-kw8wyafzyPQTsONLMBOW583TMBF78ZzLk01tMAvzQ45FuI3FGVXQw3jXrZFUzKqx3bG3wZR2fmx+5xKPM41Iwg==\" rel=\"stylesheet\" href=\"https://github.githubassets.com/assets/frameworks-930f30c9a7f3c8f413b0e34b301396e7.css\" />\\n  \\n    <link crossorigin=\"anonymous\" media=\"all\" integrity=\"sha512-daRAkODPpzjrfxkglgWPF8Y/Upx6ndTsmup2TZXBAGEcFXX1xrBZ9Am9euXQrgYpFx/xOdXJeZu7IC+WgFA'"
            ]
          },
          "metadata": {
            "tags": []
          },
          "execution_count": 118
        }
      ]
    },
    {
      "cell_type": "code",
      "metadata": {
        "id": "YrOxLWKIQf3J"
      },
      "source": [
        "with open('webpage.html', 'w') as f:\n",
        "  f.write(page_contents)"
      ],
      "execution_count": 119,
      "outputs": []
    },
    {
      "cell_type": "code",
      "metadata": {
        "id": "qCb0ZyaYRLDS"
      },
      "source": [
        "#use beautiful soup to grab information\n",
        "from bs4 import BeautifulSoup\n",
        "doc=BeautifulSoup(page_contents,'html.parser')\n"
      ],
      "execution_count": 120,
      "outputs": []
    },
    {
      "cell_type": "code",
      "metadata": {
        "id": "CReNFITVTjLJ"
      },
      "source": [
        "#doc"
      ],
      "execution_count": 121,
      "outputs": []
    },
    {
      "cell_type": "code",
      "metadata": {
        "id": "RDCWbiNSTu7C"
      },
      "source": [
        "selection_class='f3 lh-condensed mb-0 mt-1 Link--primary'\n",
        "topic_title_tags=doc.find_all('p',{'class':selection_class})"
      ],
      "execution_count": 122,
      "outputs": []
    },
    {
      "cell_type": "code",
      "metadata": {
        "colab": {
          "base_uri": "https://localhost:8080/"
        },
        "id": "6HraMISNUKux",
        "outputId": "ccefa3a8-19de-445a-c50b-106f5c239f3e"
      },
      "source": [
        "len(topic_title_tags)"
      ],
      "execution_count": 123,
      "outputs": [
        {
          "output_type": "execute_result",
          "data": {
            "text/plain": [
              "30"
            ]
          },
          "metadata": {
            "tags": []
          },
          "execution_count": 123
        }
      ]
    },
    {
      "cell_type": "code",
      "metadata": {
        "colab": {
          "base_uri": "https://localhost:8080/"
        },
        "id": "TZJhjg0fUbxk",
        "outputId": "7cc621c2-929a-4cd9-d7bc-2aeae78601bb"
      },
      "source": [
        "topic_title_tags"
      ],
      "execution_count": 124,
      "outputs": [
        {
          "output_type": "execute_result",
          "data": {
            "text/plain": [
              "[<p class=\"f3 lh-condensed mb-0 mt-1 Link--primary\">3D</p>,\n",
              " <p class=\"f3 lh-condensed mb-0 mt-1 Link--primary\">Ajax</p>,\n",
              " <p class=\"f3 lh-condensed mb-0 mt-1 Link--primary\">Algorithm</p>,\n",
              " <p class=\"f3 lh-condensed mb-0 mt-1 Link--primary\">Amp</p>,\n",
              " <p class=\"f3 lh-condensed mb-0 mt-1 Link--primary\">Android</p>,\n",
              " <p class=\"f3 lh-condensed mb-0 mt-1 Link--primary\">Angular</p>,\n",
              " <p class=\"f3 lh-condensed mb-0 mt-1 Link--primary\">Ansible</p>,\n",
              " <p class=\"f3 lh-condensed mb-0 mt-1 Link--primary\">API</p>,\n",
              " <p class=\"f3 lh-condensed mb-0 mt-1 Link--primary\">Arduino</p>,\n",
              " <p class=\"f3 lh-condensed mb-0 mt-1 Link--primary\">ASP.NET</p>,\n",
              " <p class=\"f3 lh-condensed mb-0 mt-1 Link--primary\">Atom</p>,\n",
              " <p class=\"f3 lh-condensed mb-0 mt-1 Link--primary\">Awesome Lists</p>,\n",
              " <p class=\"f3 lh-condensed mb-0 mt-1 Link--primary\">Amazon Web Services</p>,\n",
              " <p class=\"f3 lh-condensed mb-0 mt-1 Link--primary\">Azure</p>,\n",
              " <p class=\"f3 lh-condensed mb-0 mt-1 Link--primary\">Babel</p>,\n",
              " <p class=\"f3 lh-condensed mb-0 mt-1 Link--primary\">Bash</p>,\n",
              " <p class=\"f3 lh-condensed mb-0 mt-1 Link--primary\">Bitcoin</p>,\n",
              " <p class=\"f3 lh-condensed mb-0 mt-1 Link--primary\">Bootstrap</p>,\n",
              " <p class=\"f3 lh-condensed mb-0 mt-1 Link--primary\">Bot</p>,\n",
              " <p class=\"f3 lh-condensed mb-0 mt-1 Link--primary\">C</p>,\n",
              " <p class=\"f3 lh-condensed mb-0 mt-1 Link--primary\">Chrome</p>,\n",
              " <p class=\"f3 lh-condensed mb-0 mt-1 Link--primary\">Chrome extension</p>,\n",
              " <p class=\"f3 lh-condensed mb-0 mt-1 Link--primary\">Command line interface</p>,\n",
              " <p class=\"f3 lh-condensed mb-0 mt-1 Link--primary\">Clojure</p>,\n",
              " <p class=\"f3 lh-condensed mb-0 mt-1 Link--primary\">Code quality</p>,\n",
              " <p class=\"f3 lh-condensed mb-0 mt-1 Link--primary\">Code review</p>,\n",
              " <p class=\"f3 lh-condensed mb-0 mt-1 Link--primary\">Compiler</p>,\n",
              " <p class=\"f3 lh-condensed mb-0 mt-1 Link--primary\">Continuous integration</p>,\n",
              " <p class=\"f3 lh-condensed mb-0 mt-1 Link--primary\">COVID-19</p>,\n",
              " <p class=\"f3 lh-condensed mb-0 mt-1 Link--primary\">C++</p>]"
            ]
          },
          "metadata": {
            "tags": []
          },
          "execution_count": 124
        }
      ]
    },
    {
      "cell_type": "code",
      "metadata": {
        "id": "2w2hMmqWVzcP"
      },
      "source": [
        "desc_selector='f5 color-text-secondary mb-0 mt-1'\n",
        "topic_desc_tags=doc.find_all('p',{'class':desc_selector})"
      ],
      "execution_count": 125,
      "outputs": []
    },
    {
      "cell_type": "code",
      "metadata": {
        "colab": {
          "base_uri": "https://localhost:8080/"
        },
        "id": "fUB7c29tW0Ec",
        "outputId": "7ffd6e91-e0bd-424e-b579-799efce77a76"
      },
      "source": [
        "topic_desc_tags[:5]"
      ],
      "execution_count": 126,
      "outputs": [
        {
          "output_type": "execute_result",
          "data": {
            "text/plain": [
              "[<p class=\"f5 color-text-secondary mb-0 mt-1\">\n",
              "               3D modeling is the process of virtually developing the surface and structure of a 3D object.\n",
              "             </p>, <p class=\"f5 color-text-secondary mb-0 mt-1\">\n",
              "               Ajax is a technique for creating interactive web applications.\n",
              "             </p>, <p class=\"f5 color-text-secondary mb-0 mt-1\">\n",
              "               Algorithms are self-contained sequences that carry out a variety of tasks.\n",
              "             </p>, <p class=\"f5 color-text-secondary mb-0 mt-1\">\n",
              "               Amp is a non-blocking concurrency framework for PHP.\n",
              "             </p>, <p class=\"f5 color-text-secondary mb-0 mt-1\">\n",
              "               Android is an operating system built by Google designed for mobile devices.\n",
              "             </p>]"
            ]
          },
          "metadata": {
            "tags": []
          },
          "execution_count": 126
        }
      ]
    },
    {
      "cell_type": "code",
      "metadata": {
        "id": "5gNbB9vQW-dB"
      },
      "source": [
        "topic_links_selector='d-flex no-underline'\n",
        "topic_link_tags=doc.find_all('a',{'class':topic_links_selector})"
      ],
      "execution_count": 127,
      "outputs": []
    },
    {
      "cell_type": "code",
      "metadata": {
        "colab": {
          "base_uri": "https://localhost:8080/"
        },
        "id": "tnqiiP9HYRgp",
        "outputId": "1cc76b8a-7266-4ce7-adb7-cd67f621e229"
      },
      "source": [
        "len(topic_link_tags)"
      ],
      "execution_count": 128,
      "outputs": [
        {
          "output_type": "execute_result",
          "data": {
            "text/plain": [
              "30"
            ]
          },
          "metadata": {
            "tags": []
          },
          "execution_count": 128
        }
      ]
    },
    {
      "cell_type": "code",
      "metadata": {
        "id": "-ypnXOTYY88i"
      },
      "source": [
        "topic0_url=\"https://github.com\"+topic_link_tags[0]['href']"
      ],
      "execution_count": 129,
      "outputs": []
    },
    {
      "cell_type": "code",
      "metadata": {
        "colab": {
          "base_uri": "https://localhost:8080/"
        },
        "id": "5zW4c6dKZLSc",
        "outputId": "f7327114-7725-422a-d2f9-3f28b5a87a7a"
      },
      "source": [
        "print(topic0_url)"
      ],
      "execution_count": 130,
      "outputs": [
        {
          "output_type": "stream",
          "text": [
            "https://github.com/topics/3d\n"
          ],
          "name": "stdout"
        }
      ]
    },
    {
      "cell_type": "code",
      "metadata": {
        "id": "e5OX3vb6Zn2b"
      },
      "source": [
        "topic_titles=[]\n",
        "for tag in topic_title_tags:\n",
        "  y=tag.text\n",
        "  topic_titles.append(y)"
      ],
      "execution_count": 131,
      "outputs": []
    },
    {
      "cell_type": "code",
      "metadata": {
        "id": "-rzkdxMDbD0Z"
      },
      "source": [
        ""
      ],
      "execution_count": 131,
      "outputs": []
    },
    {
      "cell_type": "code",
      "metadata": {
        "colab": {
          "base_uri": "https://localhost:8080/"
        },
        "id": "y5BRckd_aFAh",
        "outputId": "7f32574e-cb76-4707-b0cd-16ba79419293"
      },
      "source": [
        "print(topic_titles)"
      ],
      "execution_count": 132,
      "outputs": [
        {
          "output_type": "stream",
          "text": [
            "['3D', 'Ajax', 'Algorithm', 'Amp', 'Android', 'Angular', 'Ansible', 'API', 'Arduino', 'ASP.NET', 'Atom', 'Awesome Lists', 'Amazon Web Services', 'Azure', 'Babel', 'Bash', 'Bitcoin', 'Bootstrap', 'Bot', 'C', 'Chrome', 'Chrome extension', 'Command line interface', 'Clojure', 'Code quality', 'Code review', 'Compiler', 'Continuous integration', 'COVID-19', 'C++']\n"
          ],
          "name": "stdout"
        }
      ]
    },
    {
      "cell_type": "code",
      "metadata": {
        "id": "iNcz8k57bVzz"
      },
      "source": [
        "topic_descriptions=[]\n",
        "for tag in topic_desc_tags:\n",
        "  y=tag.text.strip()\n",
        "  topic_descriptions.append(y)"
      ],
      "execution_count": 133,
      "outputs": []
    },
    {
      "cell_type": "code",
      "metadata": {
        "colab": {
          "base_uri": "https://localhost:8080/"
        },
        "id": "C1Oask5Mbm3d",
        "outputId": "ec45c6e8-168e-4c36-bdd4-05e9e1ff1d3d"
      },
      "source": [
        "topic_descriptions"
      ],
      "execution_count": 134,
      "outputs": [
        {
          "output_type": "execute_result",
          "data": {
            "text/plain": [
              "['3D modeling is the process of virtually developing the surface and structure of a 3D object.',\n",
              " 'Ajax is a technique for creating interactive web applications.',\n",
              " 'Algorithms are self-contained sequences that carry out a variety of tasks.',\n",
              " 'Amp is a non-blocking concurrency framework for PHP.',\n",
              " 'Android is an operating system built by Google designed for mobile devices.',\n",
              " 'Angular is an open source web application platform.',\n",
              " 'Ansible is a simple and powerful automation engine.',\n",
              " 'An API (Application Programming Interface) is a collection of protocols and subroutines for building software.',\n",
              " 'Arduino is an open source hardware and software company and maker community.',\n",
              " 'ASP.NET is a web framework for building modern web apps and services.',\n",
              " 'Atom is a open source text editor built with web technologies.',\n",
              " 'An awesome list is a list of awesome things curated by the community.',\n",
              " 'Amazon Web Services provides on-demand cloud computing platforms on a subscription basis.',\n",
              " 'Azure is a cloud computing service created by Microsoft.',\n",
              " 'Babel is a compiler for writing next generation JavaScript, today.',\n",
              " 'Bash is a shell and command language interpreter for the GNU operating system.',\n",
              " 'Bitcoin is a cryptocurrency developed by Satoshi Nakamoto.',\n",
              " 'Bootstrap is an HTML, CSS, and JavaScript framework.',\n",
              " 'A bot is an application that runs automated tasks over the Internet.',\n",
              " 'C is a general purpose programming language that first appeared in 1972.',\n",
              " 'Chrome is a web browser from the tech company Google.',\n",
              " 'Google Chrome Extensions are add-ons that allow users to customize their Chrome web browser.',\n",
              " 'A CLI, or command-line interface, is a console that helps users issue commands to a program.',\n",
              " 'Clojure is a dynamic, general-purpose programming language.',\n",
              " 'Automate your code review with style, quality, security, and test‑coverage checks when you need them.',\n",
              " 'Ensure your code meets quality standards and ship with confidence.',\n",
              " 'Compilers are software that translate higher-level programming languages to lower-level languages (e.g. machine code).',\n",
              " 'Automatically build and test your code as you push it upstream, preventing bugs from being deployed to production.',\n",
              " 'The coronavirus disease 2019 (COVID-19) is an infectious disease caused by SARS-CoV-2.',\n",
              " 'C++ is a general purpose and object-oriented programming language.']"
            ]
          },
          "metadata": {
            "tags": []
          },
          "execution_count": 134
        }
      ]
    },
    {
      "cell_type": "code",
      "metadata": {
        "id": "_Q6ghiWqb72x"
      },
      "source": [
        "topic_urls=[]\n",
        "base_url='https://github.com'\n",
        "for tag in topic_link_tags:\n",
        "  y=base_url+tag['href']\n",
        "  topic_urls.append(y)"
      ],
      "execution_count": 135,
      "outputs": []
    },
    {
      "cell_type": "code",
      "metadata": {
        "colab": {
          "base_uri": "https://localhost:8080/"
        },
        "id": "JOUtSc47cQnJ",
        "outputId": "dd9b1ccf-1376-44af-ed93-a78a37efbe26"
      },
      "source": [
        "topic_urls"
      ],
      "execution_count": 136,
      "outputs": [
        {
          "output_type": "execute_result",
          "data": {
            "text/plain": [
              "['https://github.com/topics/3d',\n",
              " 'https://github.com/topics/ajax',\n",
              " 'https://github.com/topics/algorithm',\n",
              " 'https://github.com/topics/amphp',\n",
              " 'https://github.com/topics/android',\n",
              " 'https://github.com/topics/angular',\n",
              " 'https://github.com/topics/ansible',\n",
              " 'https://github.com/topics/api',\n",
              " 'https://github.com/topics/arduino',\n",
              " 'https://github.com/topics/aspnet',\n",
              " 'https://github.com/topics/atom',\n",
              " 'https://github.com/topics/awesome',\n",
              " 'https://github.com/topics/aws',\n",
              " 'https://github.com/topics/azure',\n",
              " 'https://github.com/topics/babel',\n",
              " 'https://github.com/topics/bash',\n",
              " 'https://github.com/topics/bitcoin',\n",
              " 'https://github.com/topics/bootstrap',\n",
              " 'https://github.com/topics/bot',\n",
              " 'https://github.com/topics/c',\n",
              " 'https://github.com/topics/chrome',\n",
              " 'https://github.com/topics/chrome-extension',\n",
              " 'https://github.com/topics/cli',\n",
              " 'https://github.com/topics/clojure',\n",
              " 'https://github.com/topics/code-quality',\n",
              " 'https://github.com/topics/code-review',\n",
              " 'https://github.com/topics/compiler',\n",
              " 'https://github.com/topics/continuous-integration',\n",
              " 'https://github.com/topics/covid-19',\n",
              " 'https://github.com/topics/cpp']"
            ]
          },
          "metadata": {
            "tags": []
          },
          "execution_count": 136
        }
      ]
    },
    {
      "cell_type": "code",
      "metadata": {
        "id": "xjzTC1PQdsfP"
      },
      "source": [
        "import pandas as pd\n",
        "topics_dict={'title':topic_titles,\n",
        "             'description':topic_descriptions,\n",
        "             'url':topic_urls}\n",
        "topics_df=pd.DataFrame(topics_dict)"
      ],
      "execution_count": 137,
      "outputs": []
    },
    {
      "cell_type": "code",
      "metadata": {
        "colab": {
          "base_uri": "https://localhost:8080/",
          "height": 969
        },
        "id": "80P1x5DGe4Qb",
        "outputId": "71bee201-489a-4ea8-819d-fddeb7891415"
      },
      "source": [
        "topics_df"
      ],
      "execution_count": 138,
      "outputs": [
        {
          "output_type": "execute_result",
          "data": {
            "text/html": [
              "<div>\n",
              "<style scoped>\n",
              "    .dataframe tbody tr th:only-of-type {\n",
              "        vertical-align: middle;\n",
              "    }\n",
              "\n",
              "    .dataframe tbody tr th {\n",
              "        vertical-align: top;\n",
              "    }\n",
              "\n",
              "    .dataframe thead th {\n",
              "        text-align: right;\n",
              "    }\n",
              "</style>\n",
              "<table border=\"1\" class=\"dataframe\">\n",
              "  <thead>\n",
              "    <tr style=\"text-align: right;\">\n",
              "      <th></th>\n",
              "      <th>title</th>\n",
              "      <th>description</th>\n",
              "      <th>url</th>\n",
              "    </tr>\n",
              "  </thead>\n",
              "  <tbody>\n",
              "    <tr>\n",
              "      <th>0</th>\n",
              "      <td>3D</td>\n",
              "      <td>3D modeling is the process of virtually develo...</td>\n",
              "      <td>https://github.com/topics/3d</td>\n",
              "    </tr>\n",
              "    <tr>\n",
              "      <th>1</th>\n",
              "      <td>Ajax</td>\n",
              "      <td>Ajax is a technique for creating interactive w...</td>\n",
              "      <td>https://github.com/topics/ajax</td>\n",
              "    </tr>\n",
              "    <tr>\n",
              "      <th>2</th>\n",
              "      <td>Algorithm</td>\n",
              "      <td>Algorithms are self-contained sequences that c...</td>\n",
              "      <td>https://github.com/topics/algorithm</td>\n",
              "    </tr>\n",
              "    <tr>\n",
              "      <th>3</th>\n",
              "      <td>Amp</td>\n",
              "      <td>Amp is a non-blocking concurrency framework fo...</td>\n",
              "      <td>https://github.com/topics/amphp</td>\n",
              "    </tr>\n",
              "    <tr>\n",
              "      <th>4</th>\n",
              "      <td>Android</td>\n",
              "      <td>Android is an operating system built by Google...</td>\n",
              "      <td>https://github.com/topics/android</td>\n",
              "    </tr>\n",
              "    <tr>\n",
              "      <th>5</th>\n",
              "      <td>Angular</td>\n",
              "      <td>Angular is an open source web application plat...</td>\n",
              "      <td>https://github.com/topics/angular</td>\n",
              "    </tr>\n",
              "    <tr>\n",
              "      <th>6</th>\n",
              "      <td>Ansible</td>\n",
              "      <td>Ansible is a simple and powerful automation en...</td>\n",
              "      <td>https://github.com/topics/ansible</td>\n",
              "    </tr>\n",
              "    <tr>\n",
              "      <th>7</th>\n",
              "      <td>API</td>\n",
              "      <td>An API (Application Programming Interface) is ...</td>\n",
              "      <td>https://github.com/topics/api</td>\n",
              "    </tr>\n",
              "    <tr>\n",
              "      <th>8</th>\n",
              "      <td>Arduino</td>\n",
              "      <td>Arduino is an open source hardware and softwar...</td>\n",
              "      <td>https://github.com/topics/arduino</td>\n",
              "    </tr>\n",
              "    <tr>\n",
              "      <th>9</th>\n",
              "      <td>ASP.NET</td>\n",
              "      <td>ASP.NET is a web framework for building modern...</td>\n",
              "      <td>https://github.com/topics/aspnet</td>\n",
              "    </tr>\n",
              "    <tr>\n",
              "      <th>10</th>\n",
              "      <td>Atom</td>\n",
              "      <td>Atom is a open source text editor built with w...</td>\n",
              "      <td>https://github.com/topics/atom</td>\n",
              "    </tr>\n",
              "    <tr>\n",
              "      <th>11</th>\n",
              "      <td>Awesome Lists</td>\n",
              "      <td>An awesome list is a list of awesome things cu...</td>\n",
              "      <td>https://github.com/topics/awesome</td>\n",
              "    </tr>\n",
              "    <tr>\n",
              "      <th>12</th>\n",
              "      <td>Amazon Web Services</td>\n",
              "      <td>Amazon Web Services provides on-demand cloud c...</td>\n",
              "      <td>https://github.com/topics/aws</td>\n",
              "    </tr>\n",
              "    <tr>\n",
              "      <th>13</th>\n",
              "      <td>Azure</td>\n",
              "      <td>Azure is a cloud computing service created by ...</td>\n",
              "      <td>https://github.com/topics/azure</td>\n",
              "    </tr>\n",
              "    <tr>\n",
              "      <th>14</th>\n",
              "      <td>Babel</td>\n",
              "      <td>Babel is a compiler for writing next generatio...</td>\n",
              "      <td>https://github.com/topics/babel</td>\n",
              "    </tr>\n",
              "    <tr>\n",
              "      <th>15</th>\n",
              "      <td>Bash</td>\n",
              "      <td>Bash is a shell and command language interpret...</td>\n",
              "      <td>https://github.com/topics/bash</td>\n",
              "    </tr>\n",
              "    <tr>\n",
              "      <th>16</th>\n",
              "      <td>Bitcoin</td>\n",
              "      <td>Bitcoin is a cryptocurrency developed by Satos...</td>\n",
              "      <td>https://github.com/topics/bitcoin</td>\n",
              "    </tr>\n",
              "    <tr>\n",
              "      <th>17</th>\n",
              "      <td>Bootstrap</td>\n",
              "      <td>Bootstrap is an HTML, CSS, and JavaScript fram...</td>\n",
              "      <td>https://github.com/topics/bootstrap</td>\n",
              "    </tr>\n",
              "    <tr>\n",
              "      <th>18</th>\n",
              "      <td>Bot</td>\n",
              "      <td>A bot is an application that runs automated ta...</td>\n",
              "      <td>https://github.com/topics/bot</td>\n",
              "    </tr>\n",
              "    <tr>\n",
              "      <th>19</th>\n",
              "      <td>C</td>\n",
              "      <td>C is a general purpose programming language th...</td>\n",
              "      <td>https://github.com/topics/c</td>\n",
              "    </tr>\n",
              "    <tr>\n",
              "      <th>20</th>\n",
              "      <td>Chrome</td>\n",
              "      <td>Chrome is a web browser from the tech company ...</td>\n",
              "      <td>https://github.com/topics/chrome</td>\n",
              "    </tr>\n",
              "    <tr>\n",
              "      <th>21</th>\n",
              "      <td>Chrome extension</td>\n",
              "      <td>Google Chrome Extensions are add-ons that allo...</td>\n",
              "      <td>https://github.com/topics/chrome-extension</td>\n",
              "    </tr>\n",
              "    <tr>\n",
              "      <th>22</th>\n",
              "      <td>Command line interface</td>\n",
              "      <td>A CLI, or command-line interface, is a console...</td>\n",
              "      <td>https://github.com/topics/cli</td>\n",
              "    </tr>\n",
              "    <tr>\n",
              "      <th>23</th>\n",
              "      <td>Clojure</td>\n",
              "      <td>Clojure is a dynamic, general-purpose programm...</td>\n",
              "      <td>https://github.com/topics/clojure</td>\n",
              "    </tr>\n",
              "    <tr>\n",
              "      <th>24</th>\n",
              "      <td>Code quality</td>\n",
              "      <td>Automate your code review with style, quality,...</td>\n",
              "      <td>https://github.com/topics/code-quality</td>\n",
              "    </tr>\n",
              "    <tr>\n",
              "      <th>25</th>\n",
              "      <td>Code review</td>\n",
              "      <td>Ensure your code meets quality standards and s...</td>\n",
              "      <td>https://github.com/topics/code-review</td>\n",
              "    </tr>\n",
              "    <tr>\n",
              "      <th>26</th>\n",
              "      <td>Compiler</td>\n",
              "      <td>Compilers are software that translate higher-l...</td>\n",
              "      <td>https://github.com/topics/compiler</td>\n",
              "    </tr>\n",
              "    <tr>\n",
              "      <th>27</th>\n",
              "      <td>Continuous integration</td>\n",
              "      <td>Automatically build and test your code as you ...</td>\n",
              "      <td>https://github.com/topics/continuous-integration</td>\n",
              "    </tr>\n",
              "    <tr>\n",
              "      <th>28</th>\n",
              "      <td>COVID-19</td>\n",
              "      <td>The coronavirus disease 2019 (COVID-19) is an ...</td>\n",
              "      <td>https://github.com/topics/covid-19</td>\n",
              "    </tr>\n",
              "    <tr>\n",
              "      <th>29</th>\n",
              "      <td>C++</td>\n",
              "      <td>C++ is a general purpose and object-oriented p...</td>\n",
              "      <td>https://github.com/topics/cpp</td>\n",
              "    </tr>\n",
              "  </tbody>\n",
              "</table>\n",
              "</div>"
            ],
            "text/plain": [
              "                     title  ...                                               url\n",
              "0                       3D  ...                      https://github.com/topics/3d\n",
              "1                     Ajax  ...                    https://github.com/topics/ajax\n",
              "2                Algorithm  ...               https://github.com/topics/algorithm\n",
              "3                      Amp  ...                   https://github.com/topics/amphp\n",
              "4                  Android  ...                 https://github.com/topics/android\n",
              "5                  Angular  ...                 https://github.com/topics/angular\n",
              "6                  Ansible  ...                 https://github.com/topics/ansible\n",
              "7                      API  ...                     https://github.com/topics/api\n",
              "8                  Arduino  ...                 https://github.com/topics/arduino\n",
              "9                  ASP.NET  ...                  https://github.com/topics/aspnet\n",
              "10                    Atom  ...                    https://github.com/topics/atom\n",
              "11           Awesome Lists  ...                 https://github.com/topics/awesome\n",
              "12     Amazon Web Services  ...                     https://github.com/topics/aws\n",
              "13                   Azure  ...                   https://github.com/topics/azure\n",
              "14                   Babel  ...                   https://github.com/topics/babel\n",
              "15                    Bash  ...                    https://github.com/topics/bash\n",
              "16                 Bitcoin  ...                 https://github.com/topics/bitcoin\n",
              "17               Bootstrap  ...               https://github.com/topics/bootstrap\n",
              "18                     Bot  ...                     https://github.com/topics/bot\n",
              "19                       C  ...                       https://github.com/topics/c\n",
              "20                  Chrome  ...                  https://github.com/topics/chrome\n",
              "21        Chrome extension  ...        https://github.com/topics/chrome-extension\n",
              "22  Command line interface  ...                     https://github.com/topics/cli\n",
              "23                 Clojure  ...                 https://github.com/topics/clojure\n",
              "24            Code quality  ...            https://github.com/topics/code-quality\n",
              "25             Code review  ...             https://github.com/topics/code-review\n",
              "26                Compiler  ...                https://github.com/topics/compiler\n",
              "27  Continuous integration  ...  https://github.com/topics/continuous-integration\n",
              "28                COVID-19  ...                https://github.com/topics/covid-19\n",
              "29                     C++  ...                     https://github.com/topics/cpp\n",
              "\n",
              "[30 rows x 3 columns]"
            ]
          },
          "metadata": {
            "tags": []
          },
          "execution_count": 138
        }
      ]
    },
    {
      "cell_type": "code",
      "metadata": {
        "id": "ZMMaNdMMvzPj"
      },
      "source": [
        "\n",
        "#create csv\n",
        "topics_df.to_csv('topics.csv',index=None)"
      ],
      "execution_count": 139,
      "outputs": []
    },
    {
      "cell_type": "code",
      "metadata": {
        "id": "eCGVdzXFwrm1",
        "colab": {
          "base_uri": "https://localhost:8080/",
          "height": 35
        },
        "outputId": "c6842c19-115c-480a-d84a-0588117b9f71"
      },
      "source": [
        "topic_page_url=topic_urls[0]\n",
        "topic_page_url"
      ],
      "execution_count": 140,
      "outputs": [
        {
          "output_type": "execute_result",
          "data": {
            "application/vnd.google.colaboratory.intrinsic+json": {
              "type": "string"
            },
            "text/plain": [
              "'https://github.com/topics/3d'"
            ]
          },
          "metadata": {
            "tags": []
          },
          "execution_count": 140
        }
      ]
    },
    {
      "cell_type": "code",
      "metadata": {
        "id": "39pa9_CAJys8"
      },
      "source": [
        "response=requests.get(topic_page_url)"
      ],
      "execution_count": 141,
      "outputs": []
    },
    {
      "cell_type": "code",
      "metadata": {
        "colab": {
          "base_uri": "https://localhost:8080/"
        },
        "id": "2KFL1tLsJykX",
        "outputId": "1a07df72-bb0c-4bc8-ffaa-e3e2dcf7f883"
      },
      "source": [
        "response.status_code"
      ],
      "execution_count": 142,
      "outputs": [
        {
          "output_type": "execute_result",
          "data": {
            "text/plain": [
              "200"
            ]
          },
          "metadata": {
            "tags": []
          },
          "execution_count": 142
        }
      ]
    },
    {
      "cell_type": "code",
      "metadata": {
        "colab": {
          "base_uri": "https://localhost:8080/"
        },
        "id": "qgMZq-xeKD33",
        "outputId": "a38b6cb4-4500-48fb-8722-e9608c3c6153"
      },
      "source": [
        "len(response.text)"
      ],
      "execution_count": 143,
      "outputs": [
        {
          "output_type": "execute_result",
          "data": {
            "text/plain": [
              "615589"
            ]
          },
          "metadata": {
            "tags": []
          },
          "execution_count": 143
        }
      ]
    },
    {
      "cell_type": "code",
      "metadata": {
        "id": "5hV8urIGKKIm"
      },
      "source": [
        "topic_doc=BeautifulSoup(response.text,'html.parser')"
      ],
      "execution_count": 144,
      "outputs": []
    },
    {
      "cell_type": "code",
      "metadata": {
        "id": "klfC6ZSuK2sq"
      },
      "source": [
        "h3_selection_class='f3 color-text-secondary text-normal lh-condensed'\n",
        "repo_tags=topic_doc.find_all('h3',{'class':h3_selection_class})"
      ],
      "execution_count": 145,
      "outputs": []
    },
    {
      "cell_type": "code",
      "metadata": {
        "id": "Q7UKK7KnMbjw"
      },
      "source": [
        "a_tags=repo_tags[0].find_all('a')"
      ],
      "execution_count": 146,
      "outputs": []
    },
    {
      "cell_type": "code",
      "metadata": {
        "colab": {
          "base_uri": "https://localhost:8080/"
        },
        "id": "pi00lxi9Mpfq",
        "outputId": "589b2632-8a31-458e-b7ad-19200273c8a3"
      },
      "source": [
        "len(repo_tags)"
      ],
      "execution_count": 147,
      "outputs": [
        {
          "output_type": "execute_result",
          "data": {
            "text/plain": [
              "30"
            ]
          },
          "metadata": {
            "tags": []
          },
          "execution_count": 147
        }
      ]
    },
    {
      "cell_type": "code",
      "metadata": {
        "colab": {
          "base_uri": "https://localhost:8080/",
          "height": 35
        },
        "id": "_e5fX1JAOH9m",
        "outputId": "b8cb9bb8-d860-43c1-effa-3f10fc24baf1"
      },
      "source": [
        "a_tags[0].text.strip()"
      ],
      "execution_count": 148,
      "outputs": [
        {
          "output_type": "execute_result",
          "data": {
            "application/vnd.google.colaboratory.intrinsic+json": {
              "type": "string"
            },
            "text/plain": [
              "'mrdoob'"
            ]
          },
          "metadata": {
            "tags": []
          },
          "execution_count": 148
        }
      ]
    },
    {
      "cell_type": "code",
      "metadata": {
        "colab": {
          "base_uri": "https://localhost:8080/",
          "height": 35
        },
        "id": "5CNCkrCJOpf_",
        "outputId": "4ec584f5-6873-4443-ee67-3630c95fb6cf"
      },
      "source": [
        "a_tags[1].text.strip()"
      ],
      "execution_count": 149,
      "outputs": [
        {
          "output_type": "execute_result",
          "data": {
            "application/vnd.google.colaboratory.intrinsic+json": {
              "type": "string"
            },
            "text/plain": [
              "'three.js'"
            ]
          },
          "metadata": {
            "tags": []
          },
          "execution_count": 149
        }
      ]
    },
    {
      "cell_type": "code",
      "metadata": {
        "id": "0rh6w7pvOu4K"
      },
      "source": [
        "repo_url=base_url+a_tags[1]['href']"
      ],
      "execution_count": 150,
      "outputs": []
    },
    {
      "cell_type": "code",
      "metadata": {
        "colab": {
          "base_uri": "https://localhost:8080/"
        },
        "id": "dRt-_qcFPVj1",
        "outputId": "8af8a5f0-c671-485a-e698-44a7d5906097"
      },
      "source": [
        "print(repo_url)"
      ],
      "execution_count": 151,
      "outputs": [
        {
          "output_type": "stream",
          "text": [
            "https://github.com/mrdoob/three.js\n"
          ],
          "name": "stdout"
        }
      ]
    },
    {
      "cell_type": "code",
      "metadata": {
        "id": "880YlueXPeSc"
      },
      "source": [
        "star=\"social-count float-none\"\n",
        "repo_stars=topic_doc.find_all('a',{'class':star})"
      ],
      "execution_count": 152,
      "outputs": []
    },
    {
      "cell_type": "code",
      "metadata": {
        "colab": {
          "base_uri": "https://localhost:8080/",
          "height": 35
        },
        "id": "HSTApQ4XQS9I",
        "outputId": "bd5eea8c-a0cd-412e-8a79-93926adafb92"
      },
      "source": [
        "repo_stars[0].text.strip()"
      ],
      "execution_count": 153,
      "outputs": [
        {
          "output_type": "execute_result",
          "data": {
            "application/vnd.google.colaboratory.intrinsic+json": {
              "type": "string"
            },
            "text/plain": [
              "'73.3k'"
            ]
          },
          "metadata": {
            "tags": []
          },
          "execution_count": 153
        }
      ]
    },
    {
      "cell_type": "code",
      "metadata": {
        "id": "Mwa5zABuQnPO"
      },
      "source": [
        "def parse_star_count(stars_str):\n",
        "  stars_str=stars_str.strip()\n",
        "  if stars_str[-1]=='k':\n",
        "    return int(float(stars_str[:-1])*1000)\n",
        "  return int(stars_str)\n"
      ],
      "execution_count": 154,
      "outputs": []
    },
    {
      "cell_type": "code",
      "metadata": {
        "colab": {
          "base_uri": "https://localhost:8080/"
        },
        "id": "qcp1JFddSPl9",
        "outputId": "f028ed11-75ed-497b-a660-cd77fc49c1f9"
      },
      "source": [
        "parse_star_count(repo_stars[0].text.strip())"
      ],
      "execution_count": 155,
      "outputs": [
        {
          "output_type": "execute_result",
          "data": {
            "text/plain": [
              "73300"
            ]
          },
          "metadata": {
            "tags": []
          },
          "execution_count": 155
        }
      ]
    },
    {
      "cell_type": "code",
      "metadata": {
        "id": "gme_V0q1UQSj"
      },
      "source": [
        "def get_repo_info(repo_tags,repo_stars):\n",
        "  a_tags=repo_tags.find_all('a')\n",
        "  username=a_tags[0].text.strip()\n",
        "  repo_name=a_tags[1].text.strip()\n",
        "  repo_url=base_url+a_tags[1]['href']\n",
        "  stars=parse_star_count(repo_stars.text.strip())\n",
        "  return username, repo_name, stars, repo_url"
      ],
      "execution_count": 156,
      "outputs": []
    },
    {
      "cell_type": "code",
      "metadata": {
        "id": "WYAFm2KHVqjt"
      },
      "source": [
        "#repo_tags"
      ],
      "execution_count": 157,
      "outputs": []
    },
    {
      "cell_type": "code",
      "metadata": {
        "colab": {
          "base_uri": "https://localhost:8080/"
        },
        "id": "IUfY4oUUXHw1",
        "outputId": "8c4341d1-151c-4ac8-9da9-04a447e11d15"
      },
      "source": [
        "get_repo_info(repo_tags[0],repo_stars[0])"
      ],
      "execution_count": 158,
      "outputs": [
        {
          "output_type": "execute_result",
          "data": {
            "text/plain": [
              "('mrdoob', 'three.js', 73300, 'https://github.com/mrdoob/three.js')"
            ]
          },
          "metadata": {
            "tags": []
          },
          "execution_count": 158
        }
      ]
    },
    {
      "cell_type": "code",
      "metadata": {
        "id": "13JkVdNMXgK3"
      },
      "source": [
        "repo_topics_dict={\n",
        "    'username':[],\n",
        "    'repo_name':[],\n",
        "    'stars':[],\n",
        "    'repo_url':[]\n",
        "}\n",
        "for i in range(len(repo_tags)):\n",
        "  repo_info=get_repo_info(repo_tags[i],repo_stars[i])\n",
        "  repo_topics_dict['username'].append(repo_info[0])\n",
        "  repo_topics_dict['repo_name'].append(repo_info[1])\n",
        "  repo_topics_dict['stars'].append(repo_info[2])\n",
        "  repo_topics_dict['repo_url'].append(repo_info[3])\n"
      ],
      "execution_count": 159,
      "outputs": []
    },
    {
      "cell_type": "code",
      "metadata": {
        "id": "bIHCURgKZTyE"
      },
      "source": [
        "#repo_topics_dict"
      ],
      "execution_count": 160,
      "outputs": []
    },
    {
      "cell_type": "code",
      "metadata": {
        "id": "P9ZZ_E3GaTn_"
      },
      "source": [
        "topic_repos_df=pd.DataFrame(repo_topics_dict)"
      ],
      "execution_count": 161,
      "outputs": []
    },
    {
      "cell_type": "code",
      "metadata": {
        "colab": {
          "base_uri": "https://localhost:8080/",
          "height": 969
        },
        "id": "BvRyQXJkaoQz",
        "outputId": "f84c87f6-72a8-4167-ec69-75d88a5bac9b"
      },
      "source": [
        "topic_repos_df"
      ],
      "execution_count": 162,
      "outputs": [
        {
          "output_type": "execute_result",
          "data": {
            "text/html": [
              "<div>\n",
              "<style scoped>\n",
              "    .dataframe tbody tr th:only-of-type {\n",
              "        vertical-align: middle;\n",
              "    }\n",
              "\n",
              "    .dataframe tbody tr th {\n",
              "        vertical-align: top;\n",
              "    }\n",
              "\n",
              "    .dataframe thead th {\n",
              "        text-align: right;\n",
              "    }\n",
              "</style>\n",
              "<table border=\"1\" class=\"dataframe\">\n",
              "  <thead>\n",
              "    <tr style=\"text-align: right;\">\n",
              "      <th></th>\n",
              "      <th>username</th>\n",
              "      <th>repo_name</th>\n",
              "      <th>stars</th>\n",
              "      <th>repo_url</th>\n",
              "    </tr>\n",
              "  </thead>\n",
              "  <tbody>\n",
              "    <tr>\n",
              "      <th>0</th>\n",
              "      <td>mrdoob</td>\n",
              "      <td>three.js</td>\n",
              "      <td>73300</td>\n",
              "      <td>https://github.com/mrdoob/three.js</td>\n",
              "    </tr>\n",
              "    <tr>\n",
              "      <th>1</th>\n",
              "      <td>libgdx</td>\n",
              "      <td>libgdx</td>\n",
              "      <td>18700</td>\n",
              "      <td>https://github.com/libgdx/libgdx</td>\n",
              "    </tr>\n",
              "    <tr>\n",
              "      <th>2</th>\n",
              "      <td>BabylonJS</td>\n",
              "      <td>Babylon.js</td>\n",
              "      <td>14600</td>\n",
              "      <td>https://github.com/BabylonJS/Babylon.js</td>\n",
              "    </tr>\n",
              "    <tr>\n",
              "      <th>3</th>\n",
              "      <td>pmndrs</td>\n",
              "      <td>react-three-fiber</td>\n",
              "      <td>14200</td>\n",
              "      <td>https://github.com/pmndrs/react-three-fiber</td>\n",
              "    </tr>\n",
              "    <tr>\n",
              "      <th>4</th>\n",
              "      <td>aframevr</td>\n",
              "      <td>aframe</td>\n",
              "      <td>13000</td>\n",
              "      <td>https://github.com/aframevr/aframe</td>\n",
              "    </tr>\n",
              "    <tr>\n",
              "      <th>5</th>\n",
              "      <td>ssloy</td>\n",
              "      <td>tinyrenderer</td>\n",
              "      <td>11000</td>\n",
              "      <td>https://github.com/ssloy/tinyrenderer</td>\n",
              "    </tr>\n",
              "    <tr>\n",
              "      <th>6</th>\n",
              "      <td>lettier</td>\n",
              "      <td>3d-game-shaders-for-beginners</td>\n",
              "      <td>10900</td>\n",
              "      <td>https://github.com/lettier/3d-game-shaders-for...</td>\n",
              "    </tr>\n",
              "    <tr>\n",
              "      <th>7</th>\n",
              "      <td>FreeCAD</td>\n",
              "      <td>FreeCAD</td>\n",
              "      <td>9700</td>\n",
              "      <td>https://github.com/FreeCAD/FreeCAD</td>\n",
              "    </tr>\n",
              "    <tr>\n",
              "      <th>8</th>\n",
              "      <td>metafizzy</td>\n",
              "      <td>zdog</td>\n",
              "      <td>8600</td>\n",
              "      <td>https://github.com/metafizzy/zdog</td>\n",
              "    </tr>\n",
              "    <tr>\n",
              "      <th>9</th>\n",
              "      <td>CesiumGS</td>\n",
              "      <td>cesium</td>\n",
              "      <td>7300</td>\n",
              "      <td>https://github.com/CesiumGS/cesium</td>\n",
              "    </tr>\n",
              "    <tr>\n",
              "      <th>10</th>\n",
              "      <td>timzhang642</td>\n",
              "      <td>3D-Machine-Learning</td>\n",
              "      <td>6900</td>\n",
              "      <td>https://github.com/timzhang642/3D-Machine-Lear...</td>\n",
              "    </tr>\n",
              "    <tr>\n",
              "      <th>11</th>\n",
              "      <td>a1studmuffin</td>\n",
              "      <td>SpaceshipGenerator</td>\n",
              "      <td>6800</td>\n",
              "      <td>https://github.com/a1studmuffin/SpaceshipGener...</td>\n",
              "    </tr>\n",
              "    <tr>\n",
              "      <th>12</th>\n",
              "      <td>isl-org</td>\n",
              "      <td>Open3D</td>\n",
              "      <td>4900</td>\n",
              "      <td>https://github.com/isl-org/Open3D</td>\n",
              "    </tr>\n",
              "    <tr>\n",
              "      <th>13</th>\n",
              "      <td>spritejs</td>\n",
              "      <td>spritejs</td>\n",
              "      <td>4600</td>\n",
              "      <td>https://github.com/spritejs/spritejs</td>\n",
              "    </tr>\n",
              "    <tr>\n",
              "      <th>14</th>\n",
              "      <td>tensorspace-team</td>\n",
              "      <td>tensorspace</td>\n",
              "      <td>4500</td>\n",
              "      <td>https://github.com/tensorspace-team/tensorspace</td>\n",
              "    </tr>\n",
              "    <tr>\n",
              "      <th>15</th>\n",
              "      <td>jagenjo</td>\n",
              "      <td>webglstudio.js</td>\n",
              "      <td>4400</td>\n",
              "      <td>https://github.com/jagenjo/webglstudio.js</td>\n",
              "    </tr>\n",
              "    <tr>\n",
              "      <th>16</th>\n",
              "      <td>YadiraF</td>\n",
              "      <td>PRNet</td>\n",
              "      <td>4400</td>\n",
              "      <td>https://github.com/YadiraF/PRNet</td>\n",
              "    </tr>\n",
              "    <tr>\n",
              "      <th>17</th>\n",
              "      <td>AaronJackson</td>\n",
              "      <td>vrn</td>\n",
              "      <td>4400</td>\n",
              "      <td>https://github.com/AaronJackson/vrn</td>\n",
              "    </tr>\n",
              "    <tr>\n",
              "      <th>18</th>\n",
              "      <td>openscad</td>\n",
              "      <td>openscad</td>\n",
              "      <td>4200</td>\n",
              "      <td>https://github.com/openscad/openscad</td>\n",
              "    </tr>\n",
              "    <tr>\n",
              "      <th>19</th>\n",
              "      <td>domlysz</td>\n",
              "      <td>BlenderGIS</td>\n",
              "      <td>4200</td>\n",
              "      <td>https://github.com/domlysz/BlenderGIS</td>\n",
              "    </tr>\n",
              "    <tr>\n",
              "      <th>20</th>\n",
              "      <td>ssloy</td>\n",
              "      <td>tinyraytracer</td>\n",
              "      <td>3800</td>\n",
              "      <td>https://github.com/ssloy/tinyraytracer</td>\n",
              "    </tr>\n",
              "    <tr>\n",
              "      <th>21</th>\n",
              "      <td>mosra</td>\n",
              "      <td>magnum</td>\n",
              "      <td>3600</td>\n",
              "      <td>https://github.com/mosra/magnum</td>\n",
              "    </tr>\n",
              "    <tr>\n",
              "      <th>22</th>\n",
              "      <td>google</td>\n",
              "      <td>model-viewer</td>\n",
              "      <td>3200</td>\n",
              "      <td>https://github.com/google/model-viewer</td>\n",
              "    </tr>\n",
              "    <tr>\n",
              "      <th>23</th>\n",
              "      <td>blender</td>\n",
              "      <td>blender</td>\n",
              "      <td>3100</td>\n",
              "      <td>https://github.com/blender/blender</td>\n",
              "    </tr>\n",
              "    <tr>\n",
              "      <th>24</th>\n",
              "      <td>gfxfundamentals</td>\n",
              "      <td>webgl-fundamentals</td>\n",
              "      <td>3100</td>\n",
              "      <td>https://github.com/gfxfundamentals/webgl-funda...</td>\n",
              "    </tr>\n",
              "    <tr>\n",
              "      <th>25</th>\n",
              "      <td>cleardusk</td>\n",
              "      <td>3DDFA</td>\n",
              "      <td>3000</td>\n",
              "      <td>https://github.com/cleardusk/3DDFA</td>\n",
              "    </tr>\n",
              "    <tr>\n",
              "      <th>26</th>\n",
              "      <td>jasonlong</td>\n",
              "      <td>isometric-contributions</td>\n",
              "      <td>3000</td>\n",
              "      <td>https://github.com/jasonlong/isometric-contrib...</td>\n",
              "    </tr>\n",
              "    <tr>\n",
              "      <th>27</th>\n",
              "      <td>antvis</td>\n",
              "      <td>L7</td>\n",
              "      <td>2400</td>\n",
              "      <td>https://github.com/antvis/L7</td>\n",
              "    </tr>\n",
              "    <tr>\n",
              "      <th>28</th>\n",
              "      <td>cnr-isti-vclab</td>\n",
              "      <td>meshlab</td>\n",
              "      <td>2300</td>\n",
              "      <td>https://github.com/cnr-isti-vclab/meshlab</td>\n",
              "    </tr>\n",
              "    <tr>\n",
              "      <th>29</th>\n",
              "      <td>pissang</td>\n",
              "      <td>claygl</td>\n",
              "      <td>2300</td>\n",
              "      <td>https://github.com/pissang/claygl</td>\n",
              "    </tr>\n",
              "  </tbody>\n",
              "</table>\n",
              "</div>"
            ],
            "text/plain": [
              "            username  ...                                           repo_url\n",
              "0             mrdoob  ...                 https://github.com/mrdoob/three.js\n",
              "1             libgdx  ...                   https://github.com/libgdx/libgdx\n",
              "2          BabylonJS  ...            https://github.com/BabylonJS/Babylon.js\n",
              "3             pmndrs  ...        https://github.com/pmndrs/react-three-fiber\n",
              "4           aframevr  ...                 https://github.com/aframevr/aframe\n",
              "5              ssloy  ...              https://github.com/ssloy/tinyrenderer\n",
              "6            lettier  ...  https://github.com/lettier/3d-game-shaders-for...\n",
              "7            FreeCAD  ...                 https://github.com/FreeCAD/FreeCAD\n",
              "8          metafizzy  ...                  https://github.com/metafizzy/zdog\n",
              "9           CesiumGS  ...                 https://github.com/CesiumGS/cesium\n",
              "10       timzhang642  ...  https://github.com/timzhang642/3D-Machine-Lear...\n",
              "11      a1studmuffin  ...  https://github.com/a1studmuffin/SpaceshipGener...\n",
              "12           isl-org  ...                  https://github.com/isl-org/Open3D\n",
              "13          spritejs  ...               https://github.com/spritejs/spritejs\n",
              "14  tensorspace-team  ...    https://github.com/tensorspace-team/tensorspace\n",
              "15           jagenjo  ...          https://github.com/jagenjo/webglstudio.js\n",
              "16           YadiraF  ...                   https://github.com/YadiraF/PRNet\n",
              "17      AaronJackson  ...                https://github.com/AaronJackson/vrn\n",
              "18          openscad  ...               https://github.com/openscad/openscad\n",
              "19           domlysz  ...              https://github.com/domlysz/BlenderGIS\n",
              "20             ssloy  ...             https://github.com/ssloy/tinyraytracer\n",
              "21             mosra  ...                    https://github.com/mosra/magnum\n",
              "22            google  ...             https://github.com/google/model-viewer\n",
              "23           blender  ...                 https://github.com/blender/blender\n",
              "24   gfxfundamentals  ...  https://github.com/gfxfundamentals/webgl-funda...\n",
              "25         cleardusk  ...                 https://github.com/cleardusk/3DDFA\n",
              "26         jasonlong  ...  https://github.com/jasonlong/isometric-contrib...\n",
              "27            antvis  ...                       https://github.com/antvis/L7\n",
              "28    cnr-isti-vclab  ...          https://github.com/cnr-isti-vclab/meshlab\n",
              "29           pissang  ...                  https://github.com/pissang/claygl\n",
              "\n",
              "[30 rows x 4 columns]"
            ]
          },
          "metadata": {
            "tags": []
          },
          "execution_count": 162
        }
      ]
    },
    {
      "cell_type": "code",
      "metadata": {
        "id": "e_AhoY5oagi0"
      },
      "source": [
        "def get_topic_page(topic_urls):\n",
        "   #download the page\n",
        "  response=requests.get(topic_urls)\n",
        "  #check sucessfull response\n",
        "  if response.status_code!=200:\n",
        "    raise Exception('failed to load page{}'.format(topic_urls))\n",
        "  #parse using beautiful soup\n",
        "  topic_doc=BeautifulSoup(response.text,'html.parser')\n",
        "  return topic_doc\n",
        "\n",
        "def get_repo_info(repo_tags,repo_stars):\n",
        "  a_tags=repo_tags.find_all('a')\n",
        "  username=a_tags[0].text.strip()\n",
        "  repo_name=a_tags[1].text.strip()\n",
        "  repo_url=base_url+a_tags[1]['href']\n",
        "  stars=parse_star_count(repo_stars.text.strip())\n",
        "  return username, repo_name, stars, repo_url\n",
        "\n",
        "def get_topic_repos(topic_doc):\n",
        "  #get h3 tag\n",
        "  h3_selection_class='f3 color-text-secondary text-normal lh-condensed'\n",
        "  repo_tags=topic_doc.find_all('h3',{'class':h3_selection_class})\n",
        "  #get star tags\n",
        "  star=\"social-count float-none\"\n",
        "  repo_stars=topic_doc.find_all('a',{'class':star})\n",
        "  repo_topics_dict={\n",
        "    'username':[],\n",
        "    'repo_name':[],\n",
        "    'stars':[],\n",
        "    'repo_url':[]\n",
        "  }\n",
        "  #get repo info\n",
        "  for i in range(len(repo_tags)):\n",
        "      repo_info=get_repo_info(repo_tags[i],repo_stars[i])\n",
        "      repo_topics_dict['username'].append(repo_info[0])\n",
        "      repo_topics_dict['repo_name'].append(repo_info[1])\n",
        "      repo_topics_dict['stars'].append(repo_info[2])\n",
        "      repo_topics_dict['repo_url'].append(repo_info[3])\n",
        "\n",
        "  return pd.DataFrame(repo_topics_dict)\n",
        "import os\n",
        "def scrape_topic(topic_url,path):\n",
        "  if os.path.exists(path):\n",
        "    print('The file {} already exists. skipping  ...'.format(path))\n",
        "    return\n",
        "  topic_df=get_topic_repos(get_topic_page(topic_url))\n",
        "  topic_df.to_csv(path,index=None)\n"
      ],
      "execution_count": 163,
      "outputs": []
    },
    {
      "cell_type": "code",
      "metadata": {
        "colab": {
          "base_uri": "https://localhost:8080/",
          "height": 969
        },
        "id": "CYkGDCBCdnD8",
        "outputId": "2f42b8cc-9ca5-492a-9483-aeca0cbc5b21"
      },
      "source": [
        "get_topic_repos(get_topic_page(topic_urls[6]))"
      ],
      "execution_count": 164,
      "outputs": [
        {
          "output_type": "execute_result",
          "data": {
            "text/html": [
              "<div>\n",
              "<style scoped>\n",
              "    .dataframe tbody tr th:only-of-type {\n",
              "        vertical-align: middle;\n",
              "    }\n",
              "\n",
              "    .dataframe tbody tr th {\n",
              "        vertical-align: top;\n",
              "    }\n",
              "\n",
              "    .dataframe thead th {\n",
              "        text-align: right;\n",
              "    }\n",
              "</style>\n",
              "<table border=\"1\" class=\"dataframe\">\n",
              "  <thead>\n",
              "    <tr style=\"text-align: right;\">\n",
              "      <th></th>\n",
              "      <th>username</th>\n",
              "      <th>repo_name</th>\n",
              "      <th>stars</th>\n",
              "      <th>repo_url</th>\n",
              "    </tr>\n",
              "  </thead>\n",
              "  <tbody>\n",
              "    <tr>\n",
              "      <th>0</th>\n",
              "      <td>ansible</td>\n",
              "      <td>ansible</td>\n",
              "      <td>49300</td>\n",
              "      <td>https://github.com/ansible/ansible</td>\n",
              "    </tr>\n",
              "    <tr>\n",
              "      <th>1</th>\n",
              "      <td>StreisandEffect</td>\n",
              "      <td>streisand</td>\n",
              "      <td>22500</td>\n",
              "      <td>https://github.com/StreisandEffect/streisand</td>\n",
              "    </tr>\n",
              "    <tr>\n",
              "      <th>2</th>\n",
              "      <td>trailofbits</td>\n",
              "      <td>algo</td>\n",
              "      <td>21200</td>\n",
              "      <td>https://github.com/trailofbits/algo</td>\n",
              "    </tr>\n",
              "    <tr>\n",
              "      <th>3</th>\n",
              "      <td>bregman-arie</td>\n",
              "      <td>devops-exercises</td>\n",
              "      <td>12300</td>\n",
              "      <td>https://github.com/bregman-arie/devops-exercises</td>\n",
              "    </tr>\n",
              "    <tr>\n",
              "      <th>4</th>\n",
              "      <td>kubernetes-sigs</td>\n",
              "      <td>kubespray</td>\n",
              "      <td>11000</td>\n",
              "      <td>https://github.com/kubernetes-sigs/kubespray</td>\n",
              "    </tr>\n",
              "    <tr>\n",
              "      <th>5</th>\n",
              "      <td>ansible</td>\n",
              "      <td>awx</td>\n",
              "      <td>10000</td>\n",
              "      <td>https://github.com/ansible/awx</td>\n",
              "    </tr>\n",
              "    <tr>\n",
              "      <th>6</th>\n",
              "      <td>easzlab</td>\n",
              "      <td>kubeasz</td>\n",
              "      <td>7200</td>\n",
              "      <td>https://github.com/easzlab/kubeasz</td>\n",
              "    </tr>\n",
              "    <tr>\n",
              "      <th>7</th>\n",
              "      <td>geerlingguy</td>\n",
              "      <td>ansible-for-devops</td>\n",
              "      <td>4800</td>\n",
              "      <td>https://github.com/geerlingguy/ansible-for-devops</td>\n",
              "    </tr>\n",
              "    <tr>\n",
              "      <th>8</th>\n",
              "      <td>rundeck</td>\n",
              "      <td>rundeck</td>\n",
              "      <td>4300</td>\n",
              "      <td>https://github.com/rundeck/rundeck</td>\n",
              "    </tr>\n",
              "    <tr>\n",
              "      <th>9</th>\n",
              "      <td>ansible-semaphore</td>\n",
              "      <td>semaphore</td>\n",
              "      <td>4300</td>\n",
              "      <td>https://github.com/ansible-semaphore/semaphore</td>\n",
              "    </tr>\n",
              "    <tr>\n",
              "      <th>10</th>\n",
              "      <td>geerlingguy</td>\n",
              "      <td>mac-dev-playbook</td>\n",
              "      <td>3800</td>\n",
              "      <td>https://github.com/geerlingguy/mac-dev-playbook</td>\n",
              "    </tr>\n",
              "    <tr>\n",
              "      <th>11</th>\n",
              "      <td>Tikam02</td>\n",
              "      <td>DevOps-Guide</td>\n",
              "      <td>3800</td>\n",
              "      <td>https://github.com/Tikam02/DevOps-Guide</td>\n",
              "    </tr>\n",
              "    <tr>\n",
              "      <th>12</th>\n",
              "      <td>KubeOperator</td>\n",
              "      <td>KubeOperator</td>\n",
              "      <td>3700</td>\n",
              "      <td>https://github.com/KubeOperator/KubeOperator</td>\n",
              "    </tr>\n",
              "    <tr>\n",
              "      <th>13</th>\n",
              "      <td>ansible-community</td>\n",
              "      <td>molecule</td>\n",
              "      <td>3200</td>\n",
              "      <td>https://github.com/ansible-community/molecule</td>\n",
              "    </tr>\n",
              "    <tr>\n",
              "      <th>14</th>\n",
              "      <td>clong</td>\n",
              "      <td>DetectionLab</td>\n",
              "      <td>3000</td>\n",
              "      <td>https://github.com/clong/DetectionLab</td>\n",
              "    </tr>\n",
              "    <tr>\n",
              "      <th>15</th>\n",
              "      <td>opendevops-cn</td>\n",
              "      <td>opendevops</td>\n",
              "      <td>2800</td>\n",
              "      <td>https://github.com/opendevops-cn/opendevops</td>\n",
              "    </tr>\n",
              "    <tr>\n",
              "      <th>16</th>\n",
              "      <td>welliamcao</td>\n",
              "      <td>OpsManage</td>\n",
              "      <td>2800</td>\n",
              "      <td>https://github.com/welliamcao/OpsManage</td>\n",
              "    </tr>\n",
              "    <tr>\n",
              "      <th>17</th>\n",
              "      <td>ansible-community</td>\n",
              "      <td>ansible-lint</td>\n",
              "      <td>2600</td>\n",
              "      <td>https://github.com/ansible-community/ansible-lint</td>\n",
              "    </tr>\n",
              "    <tr>\n",
              "      <th>18</th>\n",
              "      <td>netbootxyz</td>\n",
              "      <td>netboot.xyz</td>\n",
              "      <td>2500</td>\n",
              "      <td>https://github.com/netbootxyz/netboot.xyz</td>\n",
              "    </tr>\n",
              "    <tr>\n",
              "      <th>19</th>\n",
              "      <td>werf</td>\n",
              "      <td>werf</td>\n",
              "      <td>2500</td>\n",
              "      <td>https://github.com/werf/werf</td>\n",
              "    </tr>\n",
              "    <tr>\n",
              "      <th>20</th>\n",
              "      <td>alixaxel</td>\n",
              "      <td>chrome-aws-lambda</td>\n",
              "      <td>2300</td>\n",
              "      <td>https://github.com/alixaxel/chrome-aws-lambda</td>\n",
              "    </tr>\n",
              "    <tr>\n",
              "      <th>21</th>\n",
              "      <td>dev-sec</td>\n",
              "      <td>ansible-collection-hardening</td>\n",
              "      <td>2300</td>\n",
              "      <td>https://github.com/dev-sec/ansible-collection-...</td>\n",
              "    </tr>\n",
              "    <tr>\n",
              "      <th>22</th>\n",
              "      <td>roots</td>\n",
              "      <td>trellis</td>\n",
              "      <td>2200</td>\n",
              "      <td>https://github.com/roots/trellis</td>\n",
              "    </tr>\n",
              "    <tr>\n",
              "      <th>23</th>\n",
              "      <td>ansistrano</td>\n",
              "      <td>deploy</td>\n",
              "      <td>2100</td>\n",
              "      <td>https://github.com/ansistrano/deploy</td>\n",
              "    </tr>\n",
              "    <tr>\n",
              "      <th>24</th>\n",
              "      <td>openshift</td>\n",
              "      <td>openshift-ansible</td>\n",
              "      <td>2000</td>\n",
              "      <td>https://github.com/openshift/openshift-ansible</td>\n",
              "    </tr>\n",
              "    <tr>\n",
              "      <th>25</th>\n",
              "      <td>litmuschaos</td>\n",
              "      <td>litmus</td>\n",
              "      <td>2000</td>\n",
              "      <td>https://github.com/litmuschaos/litmus</td>\n",
              "    </tr>\n",
              "    <tr>\n",
              "      <th>26</th>\n",
              "      <td>fboender</td>\n",
              "      <td>ansible-cmdb</td>\n",
              "      <td>1900</td>\n",
              "      <td>https://github.com/fboender/ansible-cmdb</td>\n",
              "    </tr>\n",
              "    <tr>\n",
              "      <th>27</th>\n",
              "      <td>pytest-dev</td>\n",
              "      <td>pytest-testinfra</td>\n",
              "      <td>1900</td>\n",
              "      <td>https://github.com/pytest-dev/pytest-testinfra</td>\n",
              "    </tr>\n",
              "    <tr>\n",
              "      <th>28</th>\n",
              "      <td>leucos</td>\n",
              "      <td>ansible-tuto</td>\n",
              "      <td>1900</td>\n",
              "      <td>https://github.com/leucos/ansible-tuto</td>\n",
              "    </tr>\n",
              "    <tr>\n",
              "      <th>29</th>\n",
              "      <td>Artemmkin</td>\n",
              "      <td>infrastructure-as-code-tutorial</td>\n",
              "      <td>1900</td>\n",
              "      <td>https://github.com/Artemmkin/infrastructure-as...</td>\n",
              "    </tr>\n",
              "  </tbody>\n",
              "</table>\n",
              "</div>"
            ],
            "text/plain": [
              "             username  ...                                           repo_url\n",
              "0             ansible  ...                 https://github.com/ansible/ansible\n",
              "1     StreisandEffect  ...       https://github.com/StreisandEffect/streisand\n",
              "2         trailofbits  ...                https://github.com/trailofbits/algo\n",
              "3        bregman-arie  ...   https://github.com/bregman-arie/devops-exercises\n",
              "4     kubernetes-sigs  ...       https://github.com/kubernetes-sigs/kubespray\n",
              "5             ansible  ...                     https://github.com/ansible/awx\n",
              "6             easzlab  ...                 https://github.com/easzlab/kubeasz\n",
              "7         geerlingguy  ...  https://github.com/geerlingguy/ansible-for-devops\n",
              "8             rundeck  ...                 https://github.com/rundeck/rundeck\n",
              "9   ansible-semaphore  ...     https://github.com/ansible-semaphore/semaphore\n",
              "10        geerlingguy  ...    https://github.com/geerlingguy/mac-dev-playbook\n",
              "11            Tikam02  ...            https://github.com/Tikam02/DevOps-Guide\n",
              "12       KubeOperator  ...       https://github.com/KubeOperator/KubeOperator\n",
              "13  ansible-community  ...      https://github.com/ansible-community/molecule\n",
              "14              clong  ...              https://github.com/clong/DetectionLab\n",
              "15      opendevops-cn  ...        https://github.com/opendevops-cn/opendevops\n",
              "16         welliamcao  ...            https://github.com/welliamcao/OpsManage\n",
              "17  ansible-community  ...  https://github.com/ansible-community/ansible-lint\n",
              "18         netbootxyz  ...          https://github.com/netbootxyz/netboot.xyz\n",
              "19               werf  ...                       https://github.com/werf/werf\n",
              "20           alixaxel  ...      https://github.com/alixaxel/chrome-aws-lambda\n",
              "21            dev-sec  ...  https://github.com/dev-sec/ansible-collection-...\n",
              "22              roots  ...                   https://github.com/roots/trellis\n",
              "23         ansistrano  ...               https://github.com/ansistrano/deploy\n",
              "24          openshift  ...     https://github.com/openshift/openshift-ansible\n",
              "25        litmuschaos  ...              https://github.com/litmuschaos/litmus\n",
              "26           fboender  ...           https://github.com/fboender/ansible-cmdb\n",
              "27         pytest-dev  ...     https://github.com/pytest-dev/pytest-testinfra\n",
              "28             leucos  ...             https://github.com/leucos/ansible-tuto\n",
              "29          Artemmkin  ...  https://github.com/Artemmkin/infrastructure-as...\n",
              "\n",
              "[30 rows x 4 columns]"
            ]
          },
          "metadata": {
            "tags": []
          },
          "execution_count": 164
        }
      ]
    },
    {
      "cell_type": "code",
      "metadata": {
        "id": "I7z3PneRdxC-"
      },
      "source": [
        ""
      ],
      "execution_count": 164,
      "outputs": []
    },
    {
      "cell_type": "markdown",
      "metadata": {
        "id": "VpL5Pq66gmV7"
      },
      "source": [
        "Write a single function to:\n",
        "1. Get the list of topics from topics page\n",
        "2. Get the list of top repos from the individual topics page\n",
        "3. For each topic create csv of the top repos of the topic"
      ]
    },
    {
      "cell_type": "code",
      "metadata": {
        "id": "AzyIg1cqd4yg"
      },
      "source": [
        "def get_topic_titles(doc):\n",
        "  selection_class='f3 lh-condensed mb-0 mt-1 Link--primary'\n",
        "  topic_title_tags=doc.find_all('p',{'class':selection_class})\n",
        "  topic_titles=[]\n",
        "  for tag in topic_title_tags:\n",
        "    y=tag.text\n",
        "    topic_titles.append(y)\n",
        "  return topic_titles\n",
        "\n",
        "def get_topic_descs(doc):\n",
        "  desc_selector='f5 color-text-secondary mb-0 mt-1'\n",
        "  topic_desc_tags=doc.find_all('p',{'class':desc_selector})\n",
        "  topic_descs=[]\n",
        "  for tag in topic_desc_tags:\n",
        "    y=tag.text.strip()\n",
        "    topic_descs.append(y)\n",
        "  return topic_descs\n",
        "\n",
        "def get_topic_urls(doc):\n",
        "  topic_links_selector='d-flex no-underline'\n",
        "  topic_link_tags=doc.find_all('a',{'class':topic_links_selector})\n",
        "  topic_urls=[]\n",
        "  base_url='https://github.com'\n",
        "  for tag in topic_link_tags:\n",
        "    y=base_url+tag['href']\n",
        "    topic_urls.append(y)\n",
        "  return  topic_urls\n",
        "\n",
        "\n",
        "\n",
        "\n",
        "def scrape_topics():\n",
        "  topics_url='https://github.com/topics'\n",
        "  response=requests.get(topics_url)\n",
        "  if response.status_code!=200:\n",
        "      raise Exception('failed to load page{}'.format(topic_urls))\n",
        "\n",
        "  topics_dict={\n",
        "      'title':get_topic_titles(doc),\n",
        "      'description':get_topic_descs(doc),\n",
        "      'url':get_topic_urls(doc)\n",
        "  }\n",
        "  return pd.DataFrame(topics_dict)\n",
        "  \n",
        "  \n",
        "  \n",
        "  \n",
        "  \n",
        "  "
      ],
      "execution_count": 165,
      "outputs": []
    },
    {
      "cell_type": "code",
      "metadata": {
        "colab": {
          "base_uri": "https://localhost:8080/",
          "height": 969
        },
        "id": "PRJoNv9veIZn",
        "outputId": "378ff8be-0857-4c04-a225-597bfdd83732"
      },
      "source": [
        "scrape_topics()"
      ],
      "execution_count": 166,
      "outputs": [
        {
          "output_type": "execute_result",
          "data": {
            "text/html": [
              "<div>\n",
              "<style scoped>\n",
              "    .dataframe tbody tr th:only-of-type {\n",
              "        vertical-align: middle;\n",
              "    }\n",
              "\n",
              "    .dataframe tbody tr th {\n",
              "        vertical-align: top;\n",
              "    }\n",
              "\n",
              "    .dataframe thead th {\n",
              "        text-align: right;\n",
              "    }\n",
              "</style>\n",
              "<table border=\"1\" class=\"dataframe\">\n",
              "  <thead>\n",
              "    <tr style=\"text-align: right;\">\n",
              "      <th></th>\n",
              "      <th>title</th>\n",
              "      <th>description</th>\n",
              "      <th>url</th>\n",
              "    </tr>\n",
              "  </thead>\n",
              "  <tbody>\n",
              "    <tr>\n",
              "      <th>0</th>\n",
              "      <td>3D</td>\n",
              "      <td>3D modeling is the process of virtually develo...</td>\n",
              "      <td>https://github.com/topics/3d</td>\n",
              "    </tr>\n",
              "    <tr>\n",
              "      <th>1</th>\n",
              "      <td>Ajax</td>\n",
              "      <td>Ajax is a technique for creating interactive w...</td>\n",
              "      <td>https://github.com/topics/ajax</td>\n",
              "    </tr>\n",
              "    <tr>\n",
              "      <th>2</th>\n",
              "      <td>Algorithm</td>\n",
              "      <td>Algorithms are self-contained sequences that c...</td>\n",
              "      <td>https://github.com/topics/algorithm</td>\n",
              "    </tr>\n",
              "    <tr>\n",
              "      <th>3</th>\n",
              "      <td>Amp</td>\n",
              "      <td>Amp is a non-blocking concurrency framework fo...</td>\n",
              "      <td>https://github.com/topics/amphp</td>\n",
              "    </tr>\n",
              "    <tr>\n",
              "      <th>4</th>\n",
              "      <td>Android</td>\n",
              "      <td>Android is an operating system built by Google...</td>\n",
              "      <td>https://github.com/topics/android</td>\n",
              "    </tr>\n",
              "    <tr>\n",
              "      <th>5</th>\n",
              "      <td>Angular</td>\n",
              "      <td>Angular is an open source web application plat...</td>\n",
              "      <td>https://github.com/topics/angular</td>\n",
              "    </tr>\n",
              "    <tr>\n",
              "      <th>6</th>\n",
              "      <td>Ansible</td>\n",
              "      <td>Ansible is a simple and powerful automation en...</td>\n",
              "      <td>https://github.com/topics/ansible</td>\n",
              "    </tr>\n",
              "    <tr>\n",
              "      <th>7</th>\n",
              "      <td>API</td>\n",
              "      <td>An API (Application Programming Interface) is ...</td>\n",
              "      <td>https://github.com/topics/api</td>\n",
              "    </tr>\n",
              "    <tr>\n",
              "      <th>8</th>\n",
              "      <td>Arduino</td>\n",
              "      <td>Arduino is an open source hardware and softwar...</td>\n",
              "      <td>https://github.com/topics/arduino</td>\n",
              "    </tr>\n",
              "    <tr>\n",
              "      <th>9</th>\n",
              "      <td>ASP.NET</td>\n",
              "      <td>ASP.NET is a web framework for building modern...</td>\n",
              "      <td>https://github.com/topics/aspnet</td>\n",
              "    </tr>\n",
              "    <tr>\n",
              "      <th>10</th>\n",
              "      <td>Atom</td>\n",
              "      <td>Atom is a open source text editor built with w...</td>\n",
              "      <td>https://github.com/topics/atom</td>\n",
              "    </tr>\n",
              "    <tr>\n",
              "      <th>11</th>\n",
              "      <td>Awesome Lists</td>\n",
              "      <td>An awesome list is a list of awesome things cu...</td>\n",
              "      <td>https://github.com/topics/awesome</td>\n",
              "    </tr>\n",
              "    <tr>\n",
              "      <th>12</th>\n",
              "      <td>Amazon Web Services</td>\n",
              "      <td>Amazon Web Services provides on-demand cloud c...</td>\n",
              "      <td>https://github.com/topics/aws</td>\n",
              "    </tr>\n",
              "    <tr>\n",
              "      <th>13</th>\n",
              "      <td>Azure</td>\n",
              "      <td>Azure is a cloud computing service created by ...</td>\n",
              "      <td>https://github.com/topics/azure</td>\n",
              "    </tr>\n",
              "    <tr>\n",
              "      <th>14</th>\n",
              "      <td>Babel</td>\n",
              "      <td>Babel is a compiler for writing next generatio...</td>\n",
              "      <td>https://github.com/topics/babel</td>\n",
              "    </tr>\n",
              "    <tr>\n",
              "      <th>15</th>\n",
              "      <td>Bash</td>\n",
              "      <td>Bash is a shell and command language interpret...</td>\n",
              "      <td>https://github.com/topics/bash</td>\n",
              "    </tr>\n",
              "    <tr>\n",
              "      <th>16</th>\n",
              "      <td>Bitcoin</td>\n",
              "      <td>Bitcoin is a cryptocurrency developed by Satos...</td>\n",
              "      <td>https://github.com/topics/bitcoin</td>\n",
              "    </tr>\n",
              "    <tr>\n",
              "      <th>17</th>\n",
              "      <td>Bootstrap</td>\n",
              "      <td>Bootstrap is an HTML, CSS, and JavaScript fram...</td>\n",
              "      <td>https://github.com/topics/bootstrap</td>\n",
              "    </tr>\n",
              "    <tr>\n",
              "      <th>18</th>\n",
              "      <td>Bot</td>\n",
              "      <td>A bot is an application that runs automated ta...</td>\n",
              "      <td>https://github.com/topics/bot</td>\n",
              "    </tr>\n",
              "    <tr>\n",
              "      <th>19</th>\n",
              "      <td>C</td>\n",
              "      <td>C is a general purpose programming language th...</td>\n",
              "      <td>https://github.com/topics/c</td>\n",
              "    </tr>\n",
              "    <tr>\n",
              "      <th>20</th>\n",
              "      <td>Chrome</td>\n",
              "      <td>Chrome is a web browser from the tech company ...</td>\n",
              "      <td>https://github.com/topics/chrome</td>\n",
              "    </tr>\n",
              "    <tr>\n",
              "      <th>21</th>\n",
              "      <td>Chrome extension</td>\n",
              "      <td>Google Chrome Extensions are add-ons that allo...</td>\n",
              "      <td>https://github.com/topics/chrome-extension</td>\n",
              "    </tr>\n",
              "    <tr>\n",
              "      <th>22</th>\n",
              "      <td>Command line interface</td>\n",
              "      <td>A CLI, or command-line interface, is a console...</td>\n",
              "      <td>https://github.com/topics/cli</td>\n",
              "    </tr>\n",
              "    <tr>\n",
              "      <th>23</th>\n",
              "      <td>Clojure</td>\n",
              "      <td>Clojure is a dynamic, general-purpose programm...</td>\n",
              "      <td>https://github.com/topics/clojure</td>\n",
              "    </tr>\n",
              "    <tr>\n",
              "      <th>24</th>\n",
              "      <td>Code quality</td>\n",
              "      <td>Automate your code review with style, quality,...</td>\n",
              "      <td>https://github.com/topics/code-quality</td>\n",
              "    </tr>\n",
              "    <tr>\n",
              "      <th>25</th>\n",
              "      <td>Code review</td>\n",
              "      <td>Ensure your code meets quality standards and s...</td>\n",
              "      <td>https://github.com/topics/code-review</td>\n",
              "    </tr>\n",
              "    <tr>\n",
              "      <th>26</th>\n",
              "      <td>Compiler</td>\n",
              "      <td>Compilers are software that translate higher-l...</td>\n",
              "      <td>https://github.com/topics/compiler</td>\n",
              "    </tr>\n",
              "    <tr>\n",
              "      <th>27</th>\n",
              "      <td>Continuous integration</td>\n",
              "      <td>Automatically build and test your code as you ...</td>\n",
              "      <td>https://github.com/topics/continuous-integration</td>\n",
              "    </tr>\n",
              "    <tr>\n",
              "      <th>28</th>\n",
              "      <td>COVID-19</td>\n",
              "      <td>The coronavirus disease 2019 (COVID-19) is an ...</td>\n",
              "      <td>https://github.com/topics/covid-19</td>\n",
              "    </tr>\n",
              "    <tr>\n",
              "      <th>29</th>\n",
              "      <td>C++</td>\n",
              "      <td>C++ is a general purpose and object-oriented p...</td>\n",
              "      <td>https://github.com/topics/cpp</td>\n",
              "    </tr>\n",
              "  </tbody>\n",
              "</table>\n",
              "</div>"
            ],
            "text/plain": [
              "                     title  ...                                               url\n",
              "0                       3D  ...                      https://github.com/topics/3d\n",
              "1                     Ajax  ...                    https://github.com/topics/ajax\n",
              "2                Algorithm  ...               https://github.com/topics/algorithm\n",
              "3                      Amp  ...                   https://github.com/topics/amphp\n",
              "4                  Android  ...                 https://github.com/topics/android\n",
              "5                  Angular  ...                 https://github.com/topics/angular\n",
              "6                  Ansible  ...                 https://github.com/topics/ansible\n",
              "7                      API  ...                     https://github.com/topics/api\n",
              "8                  Arduino  ...                 https://github.com/topics/arduino\n",
              "9                  ASP.NET  ...                  https://github.com/topics/aspnet\n",
              "10                    Atom  ...                    https://github.com/topics/atom\n",
              "11           Awesome Lists  ...                 https://github.com/topics/awesome\n",
              "12     Amazon Web Services  ...                     https://github.com/topics/aws\n",
              "13                   Azure  ...                   https://github.com/topics/azure\n",
              "14                   Babel  ...                   https://github.com/topics/babel\n",
              "15                    Bash  ...                    https://github.com/topics/bash\n",
              "16                 Bitcoin  ...                 https://github.com/topics/bitcoin\n",
              "17               Bootstrap  ...               https://github.com/topics/bootstrap\n",
              "18                     Bot  ...                     https://github.com/topics/bot\n",
              "19                       C  ...                       https://github.com/topics/c\n",
              "20                  Chrome  ...                  https://github.com/topics/chrome\n",
              "21        Chrome extension  ...        https://github.com/topics/chrome-extension\n",
              "22  Command line interface  ...                     https://github.com/topics/cli\n",
              "23                 Clojure  ...                 https://github.com/topics/clojure\n",
              "24            Code quality  ...            https://github.com/topics/code-quality\n",
              "25             Code review  ...             https://github.com/topics/code-review\n",
              "26                Compiler  ...                https://github.com/topics/compiler\n",
              "27  Continuous integration  ...  https://github.com/topics/continuous-integration\n",
              "28                COVID-19  ...                https://github.com/topics/covid-19\n",
              "29                     C++  ...                     https://github.com/topics/cpp\n",
              "\n",
              "[30 rows x 3 columns]"
            ]
          },
          "metadata": {
            "tags": []
          },
          "execution_count": 166
        }
      ]
    },
    {
      "cell_type": "code",
      "metadata": {
        "id": "cwWFUnEHhHqh"
      },
      "source": [
        "import os"
      ],
      "execution_count": 167,
      "outputs": []
    },
    {
      "cell_type": "code",
      "metadata": {
        "id": "BCg7wum7enBZ"
      },
      "source": [
        "def scrape_topics_repos():\n",
        "  print('Scraping Top Topics from github')\n",
        "  topics_df=scrape_topics()\n",
        "  #create folder\n",
        "  os.makedirs('data',exist_ok=True)\n",
        "  for index, row in topics_df.iterrows():\n",
        "    print('Scraping Top Repositories for \"{}\"'.format(row['title']))\n",
        "    scrape_topic(row['url'],'data/{}.csv'.format(row['title']))"
      ],
      "execution_count": 168,
      "outputs": []
    },
    {
      "cell_type": "code",
      "metadata": {
        "colab": {
          "base_uri": "https://localhost:8080/"
        },
        "id": "9JdJA-SmfVMQ",
        "outputId": "0c051775-5323-499b-aafa-f796d37c754a"
      },
      "source": [
        "scrape_topics_repos()"
      ],
      "execution_count": 169,
      "outputs": [
        {
          "output_type": "stream",
          "text": [
            "Scraping Top Topics from github\n",
            "Scraping Top Repositories for \"3D\"\n",
            "The file data/3D.csv already exists. skipping  ...\n",
            "Scraping Top Repositories for \"Ajax\"\n",
            "The file data/Ajax.csv already exists. skipping  ...\n",
            "Scraping Top Repositories for \"Algorithm\"\n",
            "The file data/Algorithm.csv already exists. skipping  ...\n",
            "Scraping Top Repositories for \"Amp\"\n",
            "The file data/Amp.csv already exists. skipping  ...\n",
            "Scraping Top Repositories for \"Android\"\n",
            "The file data/Android.csv already exists. skipping  ...\n",
            "Scraping Top Repositories for \"Angular\"\n",
            "The file data/Angular.csv already exists. skipping  ...\n",
            "Scraping Top Repositories for \"Ansible\"\n",
            "The file data/Ansible.csv already exists. skipping  ...\n",
            "Scraping Top Repositories for \"API\"\n",
            "The file data/API.csv already exists. skipping  ...\n",
            "Scraping Top Repositories for \"Arduino\"\n",
            "The file data/Arduino.csv already exists. skipping  ...\n",
            "Scraping Top Repositories for \"ASP.NET\"\n",
            "The file data/ASP.NET.csv already exists. skipping  ...\n",
            "Scraping Top Repositories for \"Atom\"\n",
            "The file data/Atom.csv already exists. skipping  ...\n",
            "Scraping Top Repositories for \"Awesome Lists\"\n",
            "The file data/Awesome Lists.csv already exists. skipping  ...\n",
            "Scraping Top Repositories for \"Amazon Web Services\"\n",
            "The file data/Amazon Web Services.csv already exists. skipping  ...\n",
            "Scraping Top Repositories for \"Azure\"\n",
            "The file data/Azure.csv already exists. skipping  ...\n",
            "Scraping Top Repositories for \"Babel\"\n",
            "The file data/Babel.csv already exists. skipping  ...\n",
            "Scraping Top Repositories for \"Bash\"\n",
            "The file data/Bash.csv already exists. skipping  ...\n",
            "Scraping Top Repositories for \"Bitcoin\"\n",
            "The file data/Bitcoin.csv already exists. skipping  ...\n",
            "Scraping Top Repositories for \"Bootstrap\"\n",
            "The file data/Bootstrap.csv already exists. skipping  ...\n",
            "Scraping Top Repositories for \"Bot\"\n",
            "The file data/Bot.csv already exists. skipping  ...\n",
            "Scraping Top Repositories for \"C\"\n",
            "The file data/C.csv already exists. skipping  ...\n",
            "Scraping Top Repositories for \"Chrome\"\n",
            "The file data/Chrome.csv already exists. skipping  ...\n",
            "Scraping Top Repositories for \"Chrome extension\"\n",
            "The file data/Chrome extension.csv already exists. skipping  ...\n",
            "Scraping Top Repositories for \"Command line interface\"\n",
            "The file data/Command line interface.csv already exists. skipping  ...\n",
            "Scraping Top Repositories for \"Clojure\"\n",
            "The file data/Clojure.csv already exists. skipping  ...\n",
            "Scraping Top Repositories for \"Code quality\"\n",
            "Scraping Top Repositories for \"Code review\"\n",
            "Scraping Top Repositories for \"Compiler\"\n",
            "Scraping Top Repositories for \"Continuous integration\"\n",
            "Scraping Top Repositories for \"COVID-19\"\n",
            "Scraping Top Repositories for \"C++\"\n"
          ],
          "name": "stdout"
        }
      ]
    },
    {
      "cell_type": "code",
      "metadata": {
        "id": "rUJx4CojfhUd"
      },
      "source": [
        ""
      ],
      "execution_count": 172,
      "outputs": []
    },
    {
      "cell_type": "markdown",
      "metadata": {
        "id": "CURVC2OyQ1W1"
      },
      "source": [
        "# New section"
      ]
    },
    {
      "cell_type": "markdown",
      "metadata": {
        "id": "21TrArlANXja"
      },
      "source": [
        ""
      ]
    }
  ]
}